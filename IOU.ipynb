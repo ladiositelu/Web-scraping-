{
 "cells": [
  {
   "cell_type": "markdown",
   "metadata": {},
   "source": [
    "# Investor Owned Utilities Data\n",
    "In this Ipython notebook, I will use beautifulsoup to scrape a table of Investor Owned Utilities from Wikipedia. It gets a bit tricky because some rows have a pesky problem with rowspan."
   ]
  },
  {
   "cell_type": "code",
   "execution_count": 1,
   "metadata": {
    "collapsed": false
   },
   "outputs": [
    {
     "name": "stderr",
     "output_type": "stream",
     "text": [
      "//anaconda/lib/python2.7/site-packages/pandas/computation/__init__.py:19: UserWarning: The installed version of numexpr 2.4.4 is not supported in pandas and will be not be used\n",
      "\n",
      "  UserWarning)\n"
     ]
    }
   ],
   "source": [
    "import pandas as pd\n",
    "import urllib2\n",
    "from bs4 import BeautifulSoup\n",
    "%matplotlib inline\n",
    "import matplotlib.pyplot as plt\n",
    "import matplotlib\n",
    "plt.style.use('fivethirtyeight')\n",
    "matplotlib.rcParams['figure.figsize'] = (12.0, 6.0)\n",
    "\n"
   ]
  },
  {
   "cell_type": "code",
   "execution_count": 2,
   "metadata": {
    "collapsed": true
   },
   "outputs": [],
   "source": [
    "IOU='https://en.wikipedia.org/wiki/Investor-owned_utility' #the wikipedia link"
   ]
  },
  {
   "cell_type": "code",
   "execution_count": 3,
   "metadata": {
    "collapsed": true
   },
   "outputs": [],
   "source": [
    "page=urllib2.urlopen(IOU)"
   ]
  },
  {
   "cell_type": "code",
   "execution_count": 4,
   "metadata": {
    "collapsed": false
   },
   "outputs": [
    {
     "data": {
      "text/plain": [
       "'https://en.wikipedia.org/wiki/Investor-owned_utility'"
      ]
     },
     "execution_count": 4,
     "metadata": {},
     "output_type": "execute_result"
    }
   ],
   "source": [
    "page.geturl() # make sure no redirect"
   ]
  },
  {
   "cell_type": "code",
   "execution_count": 5,
   "metadata": {
    "collapsed": false
   },
   "outputs": [],
   "source": [
    "soup=BeautifulSoup(page,'lxml')"
   ]
  },
  {
   "cell_type": "code",
   "execution_count": 6,
   "metadata": {
    "collapsed": false
   },
   "outputs": [],
   "source": [
    "print soup.prettify()"
   ]
  },
  {
   "cell_type": "code",
   "execution_count": 7,
   "metadata": {
    "collapsed": false
   },
   "outputs": [
    {
     "data": {
      "text/plain": [
       "u'Investor-owned utility - Wikipedia'"
      ]
     },
     "execution_count": 7,
     "metadata": {},
     "output_type": "execute_result"
    }
   ],
   "source": [
    "soup.title.string"
   ]
  },
  {
   "cell_type": "code",
   "execution_count": 8,
   "metadata": {
    "collapsed": false
   },
   "outputs": [],
   "source": [
    "right_table=soup.find('table', {'class':'wikitable sortable'}) # The class of the table is wikitable sortable\n",
    "#print right_table"
   ]
  },
  {
   "cell_type": "markdown",
   "metadata": {},
   "source": [
    "We can see the problem with rowspan. Some rows of the first column have a rowspan number. For instance if there's a rowspan of 2, that value spans over 2 rows. However, without taking proper care to adjust for this, we would lose the data for the second row. The problem obviously gets worse the larger the rowspan number is"
   ]
  },
  {
   "cell_type": "code",
   "execution_count": 9,
   "metadata": {
    "collapsed": false
   },
   "outputs": [],
   "source": [
    "#change rowsleft into something else\n",
    "rowspans = [] #use this to save data on rows with a rowspan variable\n",
    "dd=[]\n",
    "for row in right_table.findAll(\"tr\"): #find all the rows in the table\n",
    "    cells = row.findAll([\"th\", \"td\"]) #Headers and columns\n",
    "    if len(rowspans) == 0:\n",
    "        rowspans = [None for row in cells] #define rowspans by the number of columns\n",
    "    for i, cell in enumerate(cells):\n",
    "        if cell.has_attr(\"rowspan\"):\n",
    "            rowspan_data = {'rows_left': int(cell[\"rowspan\"]),'value': cell,}\n",
    "            rowspans[i] = rowspan_data\n",
    "        elif len(cells) != len(rowspans):\n",
    "            for index, rowspan_data in enumerate(rowspans):\n",
    "                if rowspan_data is not None:# Insert the data from previous row; decrement rows left\n",
    "                    cells.insert(index, rowspan_data['value'])\n",
    "                    if rowspans[index]['rows_left'] == 1:\n",
    "                        rowspans[index] = None     \n",
    "                    else:\n",
    "                        rowspans[index]['rows_left'] -= 1\n",
    "                        \n",
    "    dd.append(cells)\n"
   ]
  },
  {
   "cell_type": "code",
   "execution_count": 10,
   "metadata": {
    "collapsed": true
   },
   "outputs": [],
   "source": [
    "PC=[]\n",
    "OC=[]\n",
    "OS=[]\n",
    "for row in dd:\n",
    "    PC.append(row[0].find(text=True))\n",
    "    OC.append(row[1].find(text=True))\n",
    "    OS.append(row[2].find(text=True))"
   ]
  },
  {
   "cell_type": "code",
   "execution_count": 11,
   "metadata": {
    "collapsed": false
   },
   "outputs": [],
   "source": [
    "df=pd.DataFrame(PC) #create a dataframe \n",
    "df['Operating Company']=OC\n",
    "df['State']=OS\n",
    "df.columns=df.iloc[0] #set the first row as the header"
   ]
  },
  {
   "cell_type": "code",
   "execution_count": 12,
   "metadata": {
    "collapsed": false
   },
   "outputs": [],
   "source": [
    "df=df.ix[1:,] "
   ]
  },
  {
   "cell_type": "code",
   "execution_count": 13,
   "metadata": {
    "collapsed": false
   },
   "outputs": [],
   "source": [
    "df=df.reset_index()\n",
    "del df['index']"
   ]
  },
  {
   "cell_type": "code",
   "execution_count": 14,
   "metadata": {
    "collapsed": false
   },
   "outputs": [
    {
     "data": {
      "text/html": [
       "<div>\n",
       "<table border=\"1\" class=\"dataframe\">\n",
       "  <thead>\n",
       "    <tr style=\"text-align: right;\">\n",
       "      <th></th>\n",
       "      <th>Parent Company</th>\n",
       "      <th>Operating Company</th>\n",
       "      <th>Operating States</th>\n",
       "    </tr>\n",
       "  </thead>\n",
       "  <tbody>\n",
       "    <tr>\n",
       "      <th>0</th>\n",
       "      <td>AES Corporation</td>\n",
       "      <td>Indianapolis Power &amp; Light</td>\n",
       "      <td>IN</td>\n",
       "    </tr>\n",
       "    <tr>\n",
       "      <th>1</th>\n",
       "      <td>AES Corporation</td>\n",
       "      <td>Dayton Power and Light</td>\n",
       "      <td>OH</td>\n",
       "    </tr>\n",
       "    <tr>\n",
       "      <th>2</th>\n",
       "      <td>Allete</td>\n",
       "      <td>Minnesota Power</td>\n",
       "      <td>MN</td>\n",
       "    </tr>\n",
       "    <tr>\n",
       "      <th>3</th>\n",
       "      <td>Allete</td>\n",
       "      <td>Superior Water, Light and Power</td>\n",
       "      <td>WI</td>\n",
       "    </tr>\n",
       "    <tr>\n",
       "      <th>4</th>\n",
       "      <td>Alliant Energy</td>\n",
       "      <td>Interstate Power and Light</td>\n",
       "      <td>IA, MN</td>\n",
       "    </tr>\n",
       "  </tbody>\n",
       "</table>\n",
       "</div>"
      ],
      "text/plain": [
       "0   Parent Company                Operating Company Operating States\n",
       "0  AES Corporation       Indianapolis Power & Light               IN\n",
       "1  AES Corporation           Dayton Power and Light               OH\n",
       "2           Allete                  Minnesota Power               MN\n",
       "3           Allete  Superior Water, Light and Power               WI\n",
       "4   Alliant Energy       Interstate Power and Light           IA, MN"
      ]
     },
     "execution_count": 14,
     "metadata": {},
     "output_type": "execute_result"
    }
   ],
   "source": [
    "df.head()"
   ]
  },
  {
   "cell_type": "markdown",
   "metadata": {},
   "source": [
    "Create tickers for publicly traded companies"
   ]
  },
  {
   "cell_type": "code",
   "execution_count": 15,
   "metadata": {
    "collapsed": true
   },
   "outputs": [],
   "source": [
    "ticker=[]\n",
    "for i in range(len(df)):\n",
    "    if df['Parent Company'].str.contains('AES')[i]==True:\n",
    "        ticker.append('AES')\n",
    "    elif df['Parent Company'].str.contains('FirstEnergy')[i]==True:\n",
    "        ticker.append('FE')\n",
    "    elif df['Parent Company'].str.contains('American Elect')[i]==True:\n",
    "        ticker.append('AEP')\n",
    "    elif df['Parent Company'].str.contains('Dominion')[i]==True:\n",
    "        ticker.append('D')\n",
    "    elif df['Parent Company'].str.contains('Allete')[i]==True:\n",
    "        ticker.append('ALE')\n",
    "    elif df['Parent Company'].str.contains('PPL')[i]==True:\n",
    "        ticker.append('PPL')\n",
    "    elif df['Parent Company'].str.contains('Duke')[i]==True:\n",
    "        ticker.append('DUK')\n",
    "    elif df['Parent Company'].str.contains('Xcel')[i]==True:\n",
    "        ticker.append('XEL')\n",
    "    elif df['Parent Company'].str.contains('Alliant')[i]==True:\n",
    "        ticker.append('LNT')\n",
    "    elif df['Parent Company'].str.contains('Exelon')[i]==True:\n",
    "        ticker.append('EXC')\n",
    "    elif df['Parent Company'].str.contains('Entergy')[i]==True:\n",
    "        ticker.append('ETR')\n",
    "    elif df['Parent Company'].str.contains('Hawaii')[i]==True:\n",
    "        ticker.append('HE')\n",
    "    elif df['Parent Company'].str.contains('Consolidated Edison')[i]==True:\n",
    "        ticker.append('ED')\n",
    "    elif df['Parent Company'].str.contains('Southern Company')[i]==True:\n",
    "        ticker.append('SO')\n",
    "    elif df['Parent Company'].str.contains('Ameren')[i]==True:\n",
    "        ticker.append('AEE')\n",
    "    elif df['Parent Company'].str.contains('Unitil')[i]==True:\n",
    "        ticker.append('UTL')\n",
    "    elif df['Parent Company'].str.contains('Pepco')[i]==True:\n",
    "        ticker.append('POM')\n",
    "    elif df['Parent Company'].str.contains('Black Hills')[i]==True:\n",
    "        ticker.append('BKH')\n",
    "    elif df['Parent Company'].str.contains('Avista')[i]==True:\n",
    "        ticker.append('AVA')\n",
    "    elif df['Parent Company'].str.contains('ITC Holdings')[i]==True:\n",
    "        ticker.append('ITC')\n",
    "    elif df['Parent Company'].str.contains('National Grid')[i]==True:\n",
    "        ticker.append('NGG')\n",
    "    elif df['Parent Company'].str.contains('CenterPoint')[i]==True:\n",
    "        ticker.append('CNP')\n",
    "    elif df['Parent Company'].str.contains('UniSource')[i]==True:\n",
    "        ticker.append('UNS')\n",
    "    elif df['Parent Company'].str.contains('CLECO')[i]==True:\n",
    "        ticker.append('CNL')\n",
    "    elif df['Parent Company'].str.contains('PNM')[i]==True:\n",
    "        ticker.append('PNM')\n",
    "    elif df['Parent Company'].str.contains('Westar')[i]==True:\n",
    "        ticker.append('WR')\n",
    "    elif df['Parent Company'].str.contains('El Paso')[i]==True:\n",
    "        ticker.append('EE')\n",
    "    elif df['Parent Company'].str.contains('CMS Energy')[i]==True:\n",
    "        ticker.append('CMS')\n",
    "    elif df['Parent Company'].str.contains('Wisconsin Energy')[i]==True:\n",
    "        ticker.append('WEC')\n",
    "    elif df['Parent Company'].str.contains('Great Plains')[i]==True:\n",
    "        ticker.append('GXP')\n",
    "    elif df['Parent Company'].str.contains('MDU')[i]==True:\n",
    "        ticker.append('MDU')\n",
    "    elif df['Parent Company'].str.contains('DTE')[i]==True:\n",
    "        ticker.append('DTE')\n",
    "    elif df['Parent Company'].str.contains('Edison International')[i]==True:\n",
    "        ticker.append('EIX')\n",
    "    elif df['Parent Company'].str.contains('Vectren')[i]==True:\n",
    "        ticker.append('VVC')\n",
    "    elif df['Parent Company'].str.contains('UIL Holdings')[i]==True:\n",
    "        ticker.append('UIL')\n",
    "    elif df['Parent Company'].str.contains('Sempra')[i]==True:\n",
    "        ticker.append('SRE')\n",
    "    elif df['Parent Company'].str.contains('Integrys')[i]==True:\n",
    "        ticker.append('TEG')\n",
    "    elif df['Parent Company'].str.contains('NextEra')[i]==True:\n",
    "        ticker.append('NEE')\n",
    "    elif df['Parent Company'].str.contains('MGE')[i]==True:\n",
    "        ticker.append('MGE')\n",
    "    elif df['Parent Company'].str.contains('OGE')[i]==True:\n",
    "        ticker.append('OGE')\n",
    "    elif df['Parent Company'].str.contains('NiSource')[i]==True:\n",
    "        ticker.append('NI')\n",
    "    elif df['Parent Company'].str.contains('NSTAR')[i]==True:\n",
    "        ticker.append('NST')\n",
    "    elif df['Parent Company'].str.contains('TECO')[i]==True:\n",
    "        ticker.append('TE')\n",
    "    elif df['Parent Company'].str.contains('PG&E')[i]==True:\n",
    "        ticker.append('PCG')\n",
    "    elif df['Parent Company'].str.contains('NorthWestern Corp')[i]==True:\n",
    "        ticker.append('NWE')\n",
    "    elif df['Parent Company'].str.contains('NRG')[i]==True:\n",
    "        ticker.append('NRG')\n",
    "    elif df['Parent Company'].str.contains('Otter Tail')[i]==True:\n",
    "        ticker.append('OTTR')\n",
    "    elif df['Parent Company'].str.contains('Public Service Enterprise')[i]==True:\n",
    "        ticker.append('PEG')\n",
    "    elif df['Parent Company'].str.contains('Puget')[i]==True:\n",
    "        ticker.append('PSD')\n",
    "    elif df['Parent Company'].str.contains('SCANA')[i]==True:\n",
    "        ticker.append('SCG')\n",
    "    elif df['Parent Company'].str.contains('UGI Corp')[i]==True:\n",
    "        ticker.append('UGI')\n",
    "    elif df['Parent Company'].str.contains('Portland Gen')[i]==True:\n",
    "        ticker.append('POR')\n",
    "    elif df['Parent Company'].str.contains('Pinnacle West')[i]==True:\n",
    "        ticker.append('PNW')\n",
    "    elif df['Parent Company'].str.contains('Northeast Utilities')[i]==True:\n",
    "        ticker.append('NU')\n",
    "    elif df['Parent Company'].str.contains('DQE')[i]==True:\n",
    "        ticker.append('DQE')\n",
    "    else:\n",
    "        ticker.append('')\n",
    "df['ticker']=ticker"
   ]
  },
  {
   "cell_type": "markdown",
   "metadata": {},
   "source": [
    "### What parent companies have the most utilities?"
   ]
  },
  {
   "cell_type": "code",
   "execution_count": 16,
   "metadata": {
    "collapsed": false
   },
   "outputs": [
    {
     "data": {
      "text/plain": [
       "<matplotlib.axes._subplots.AxesSubplot at 0x10982e710>"
      ]
     },
     "execution_count": 16,
     "metadata": {},
     "output_type": "execute_result"
    },
    {
     "data": {
      "image/png": "[encoded data removed]",
      "text/plain": [
       "<matplotlib.figure.Figure at 0x10b3a3f50>"
      ]
     },
     "metadata": {},
     "output_type": "display_data"
    }
   ],
   "source": [
    "df['Parent Company'].value_counts().head().plot(kind='barh')"
   ]
  },
  {
   "cell_type": "markdown",
   "metadata": {},
   "source": [
    "### What parent companies have the least number of utilities?"
   ]
  },
  {
   "cell_type": "code",
   "execution_count": 17,
   "metadata": {
    "collapsed": false
   },
   "outputs": [
    {
     "data": {
      "text/plain": [
       "<matplotlib.axes._subplots.AxesSubplot at 0x10997f890>"
      ]
     },
     "execution_count": 17,
     "metadata": {},
     "output_type": "execute_result"
    },
    {
     "data": {
      "image/png": "[encoded data removed]",
      "text/plain": [
       "<matplotlib.figure.Figure at 0x1098e61d0>"
      ]
     },
     "metadata": {},
     "output_type": "display_data"
    }
   ],
   "source": [
    "df['Parent Company'].value_counts().tail().plot(kind='barh')"
   ]
  }
 ],
 "metadata": {
  "kernelspec": {
   "display_name": "Python 2",
   "language": "python",
   "name": "python2"
  },
  "language_info": {
   "codemirror_mode": {
    "name": "ipython",
    "version": 2
   },
   "file_extension": ".py",
   "mimetype": "text/x-python",
   "name": "python",
   "nbconvert_exporter": "python",
   "pygments_lexer": "ipython2",
   "version": "2.7.12"
  }
 },
 "nbformat": 4,
 "nbformat_minor": 0
}
